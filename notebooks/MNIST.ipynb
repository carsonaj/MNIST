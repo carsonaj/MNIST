{
 "cells": [
  {
   "cell_type": "code",
   "execution_count": 1,
   "metadata": {},
   "outputs": [],
   "source": [
    "import torch\n",
    "import torchvision\n",
    "import torchvision.transforms as transforms\n",
    "\n",
    "import matplotlib.pyplot as plt"
   ]
  },
  {
   "cell_type": "code",
   "execution_count": 2,
   "metadata": {},
   "outputs": [],
   "source": [
    "# path to/from which we will load/download on our machine\n",
    "train_path = './data/MNIST_train'\n",
    "\n",
    "# download/load data to/from path, select training set, download if not already\n",
    "trainset = torchvision.datasets.MNIST(root=train_path, train=True, download=True)\n",
    "\n",
    "# The dataset class has two important methods: __len__ and __getitem__.\n",
    "length = len(trainset) # length 60000\n",
    "item0 = trainset[0] # data, value\n",
    "\n",
    "# The items of an instance of the dataset class are tuples of data \n",
    "# and values (features and labels).\n",
    "\n",
    "# The data in the MNIST data set are images of form PIL.Image.Image.\n",
    "img0 = item0[0] # PIL.Image.Image\n",
    "val0 = item0[1] # 5"
   ]
  },
  {
   "cell_type": "code",
   "execution_count": 3,
   "metadata": {},
   "outputs": [
    {
     "data": {
      "image/png": "[encoded data removed]",
      "text/plain": [
       "<Figure size 432x288 with 1 Axes>"
      ]
     },
     "metadata": {
      "needs_background": "light"
     },
     "output_type": "display_data"
    }
   ],
   "source": [
    "# We can view these images by using #plt.imshow().\n",
    "plt.imshow(img0, cmap='gray')\n",
    "plt.show()"
   ]
  },
  {
   "cell_type": "code",
   "execution_count": 4,
   "metadata": {},
   "outputs": [
    {
     "data": {
      "text/plain": [
       "<matplotlib.image.AxesImage at 0x7fd1a24b5820>"
      ]
     },
     "execution_count": 4,
     "metadata": {},
     "output_type": "execute_result"
    },
    {
     "data": {
      "image/png": "[encoded data removed]",
      "text/plain": [
       "<Figure size 432x288 with 1 Axes>"
      ]
     },
     "metadata": {
      "needs_background": "light"
     },
     "output_type": "display_data"
    }
   ],
   "source": [
    "# To use pytorch, we need to convert our data into a an acceptable type for the framework... \n",
    "# the so-called \"tensor\" (it's really just a multidimensional array)\n",
    "\n",
    "# We can use the ToTensor transform in torchvision.transforms to convert our data to tensors.\n",
    "totensor = transforms.ToTensor()\n",
    "img0_t = totensor(img0)\n",
    "\n",
    "# We can see the shape of our tensors using the size method.\n",
    "img_size = img0_t.size() # 1x28x28\n",
    "\n",
    "# the size of images converted to tensors is CxHxW where C is the number of channels (1: grayscale, 3:RGB)\n",
    "# and H,W are the height and width of the image.\n",
    "# The images in the MNIST dataset are gray-scale 28x28 pixels, so there is only 1 channel. \n",
    "\n",
    "# If we want to view the picture after converting to a tensor, we need to be careful. \n",
    "# Pytorch converst the image to a CxHxW sized array, but matplotlib expects: \n",
    "#     a) - a HxW sized array if grayscale \n",
    "#     b) - a HxWxC sized array if the number of channels is more than 1  \n",
    "\n",
    "# To view our image, just slice off the first index\n",
    "sliced = img0_t[0,:,:]\n",
    "plt.imshow(sliced, cmap='gray')\n",
    "\n",
    "# To view an RGB image after transforming to tensor, use the permute method of the Tensor class:  \n",
    "# permuted = img0_t.permute(1, 2, 0) # moves first index to last and shifts other two up\n",
    "# plt.imshow(permuted)"
   ]
  },
  {
   "cell_type": "code",
   "execution_count": 5,
   "metadata": {},
   "outputs": [],
   "source": [
    "# We can transform each image to a tensor at load time by using the transform option.\n",
    "trainset_t = torchvision.datasets.MNIST(root=train_path, train=True, download=True, transform=transforms.ToTensor())"
   ]
  },
  {
   "cell_type": "code",
   "execution_count": 6,
   "metadata": {},
   "outputs": [],
   "source": [
    "# Since neural nets work train better when the training data features fall between 0 and 1, \n",
    "# we need to normalize our tensors so that all the values in each tensor fall in that range. \n",
    "# A common way to do this is to find the mean and standard deviation for the data and then \n",
    "# subtract off the mean and divide by the standard deviation.\n",
    "\n",
    "# We can do this by stacking all our tensor images along an extra dimension:\n",
    "imgs_t = torch.stack([img_t for img_t, _ in trainset_t], dim=3)"
   ]
  },
  {
   "cell_type": "code",
   "execution_count": 7,
   "metadata": {},
   "outputs": [],
   "source": [
    "# The shape should be 1x28x28xlen(trainset)\n",
    "imgs_size = imgs_t.size() # 1x28x28x60000\n",
    "\n",
    "# We can easily compute the mean and standard deviation by channel using view, mean and std methods \n",
    "# of the Tensor class. \n",
    "\n",
    "# keep the channels (our case: 1) and merge the other dimensions into one\n",
    "imgs_flat = imgs_t.view(1, -1) # C x rest\n",
    "\n",
    "# find the mean and standard deviation of each channel\n",
    "mu = imgs_flat.mean(dim=1) # 0.1306\n",
    "sigma = imgs_flat.std(dim=1) # 0.3081\n",
    "\n",
    "# to get value in a value of a one entry tensor, use item methoth\n",
    "mu = mu.item()\n",
    "sigma = sigma.item()\n",
    "\n",
    "# if channels > 1, use list comprehension andt item method and pass \n",
    "# list of means and standard deviations to transforms.Normalize:\n",
    "# ex) mu = [a.item() for a in imgs_flat.mean(dim=1)]"
   ]
  },
  {
   "cell_type": "code",
   "execution_count": 8,
   "metadata": {},
   "outputs": [],
   "source": [
    "# If we know the means and standard deviations for the data beforehand, we can normalize our data at \n",
    "# load time by using transforms.Compose() and transforms.Normalize(). \n",
    "trainset_t = torchvision.datasets.MNIST(root=train_path, train=True, download=True, \n",
    "                                        transform=transforms.Compose([transforms.ToTensor(), \n",
    "                                                                     transforms.Normalize(mu, sigma)]))"
   ]
  },
  {
   "cell_type": "code",
   "execution_count": 9,
   "metadata": {},
   "outputs": [],
   "source": [
    "# In pytorch we need to load the data using the Data.Loader to train a network. The Data.Loader \n",
    "# handles partitioning the data into batches for various training techniques. The Data.Loader \n",
    "# can also shuffle the data which is useful for various training techniques.  \n",
    "\n",
    "# prepare data, batch and shuffle\n",
    "trainset_loader = torch.utils.data.DataLoader(trainset_t, batch_size=60, shuffle=True)\n",
    "\n",
    "# An instance of Data.Loader has a __len__ method\n",
    "loader_length = len(trainset_loader) # 1000 which is about 60000/60 = len(trainset)/batch_size\n",
    "\n",
    "# However, an instance of Data.Loader does not have a __getitem__ method. The most common way to get over this\n",
    "# is to just to enumerate the loader and loop over it. \n",
    "for i, data in enumerate(trainset_loader):\n",
    "    break\n",
    "    \n",
    "# In training, everything in batches is \n",
    "# handled automatically"
   ]
  },
  {
   "cell_type": "code",
   "execution_count": 10,
   "metadata": {},
   "outputs": [],
   "source": [
    "# Lets recap and load in all our data for use later. \n",
    "\n",
    "# find mean/std of data\n",
    "train_path = './data/MNIST_train'\n",
    "test_path = './data/MNIST_test'\n",
    "\n",
    "train_set = torchvision.datasets.MNIST(root=train_path, train=True, download=True, transform=transforms.ToTensor())\n",
    "\n",
    "train_imgs = torch.stack([img for img, _ in train_set], dim=3)\n",
    "train_flat = train_imgs.view(1, -1)\n",
    "mu = train_flat.mean(dim=1).item()\n",
    "sigma = train_flat.std(dim=1).item()\n",
    "\n",
    "# make transform to convert to tensor and normalize \n",
    "transform = transforms.Compose([transforms.ToTensor(), transforms.Normalize(mu, sigma)])\n",
    "\n",
    "# prepare data\n",
    "train_set = torchvision.datasets.MNIST(root=train_path, train=True, download=True, transform=transform)\n",
    "train_loader = torch.utils.data.DataLoader(train_set, batch_size=60, shuffle=True)\n",
    "\n",
    "test_set = torchvision.datasets.MNIST(root=test_path, train=False, download=True, transform=transform)\n",
    "test_loader = torch.utils.data.DataLoader(test_set, batch_size=60, shuffle=False)"
   ]
  },
  {
   "cell_type": "code",
   "execution_count": 11,
   "metadata": {},
   "outputs": [],
   "source": [
    "# Now we are ready to make neural network, train them, and profit. We will start with two \n",
    "# simple, totally connected network. \n",
    "\n",
    "# First will create the standard multiclass logistic regression model as a benchmark. We can think \n",
    "# of each image as a 28 * 28 = 784 length point which we will operate on and classify as one of 10 classes.\n",
    "# We will have one linear layer that has input dimension 784 and output dimension 10. We will then use the \n",
    "# softmax function to convert the output to probabilities then train the network. \n",
    "\n",
    "import torch.nn as nn\n",
    "import torch.optim as optim\n",
    "\n",
    "# create logistic regression neural net\n",
    "class LR(nn.Module):\n",
    "    def __init__(self):\n",
    "        super(LR, self).__init__()\n",
    "        self.fc = nn.Linear(784, 10)\n",
    "        self.softmax = nn.Softmax(dim=1)\n",
    "    \n",
    "    def forward(self, x):\n",
    "        # totally flatten the image to length H*W = 784\n",
    "        x = x.view(-1, 784)\n",
    "        x = self.fc(x)\n",
    "        x = self.softmax(x)\n",
    "        \n",
    "        return x\n",
    "    \n",
    "model = LR()"
   ]
  },
  {
   "cell_type": "code",
   "execution_count": 12,
   "metadata": {},
   "outputs": [],
   "source": [
    "# define a loss function and optimizer\n",
    "criterion = nn.NLLLoss()\n",
    "optimizer = optim.SGD(model.parameters(), lr=.001, momentum=.9)"
   ]
  },
  {
   "cell_type": "code",
   "execution_count": 19,
   "metadata": {},
   "outputs": [
    {
     "name": "stdout",
     "output_type": "stream",
     "text": [
      "finished training\n"
     ]
    }
   ],
   "source": [
    "# how many times to loop over data\n",
    "epochs = 2\n",
    "\n",
    "#train network\n",
    "for epoch in range(epochs):\n",
    "    \n",
    "    for i, data in enumerate(train_loader):\n",
    "        #get inputs, labels\n",
    "        inputs, labels = data\n",
    "        \n",
    "        # zero the parameter gradients\n",
    "        optimizer.zero_grad()\n",
    "        \n",
    "        # forward, backward, optimize\n",
    "        outputs = model(inputs)\n",
    "        loss = criterion(outputs, labels)\n",
    "        loss.backward()\n",
    "        optimizer.step()\n",
    "\n",
    "print('finished training')\n",
    "        \n",
    "# save trained model\n",
    "save_path = './MNIST_LR.pth'\n",
    "torch.save(model.state_dict(), save_path) "
   ]
  },
  {
   "cell_type": "code",
   "execution_count": 20,
   "metadata": {},
   "outputs": [
    {
     "name": "stdout",
     "output_type": "stream",
     "text": [
      "accuracy is 98.39 percent\n"
     ]
    }
   ],
   "source": [
    "# evaluate on testing data\n",
    "total = 0\n",
    "correct = 0\n",
    "\n",
    "with torch.no_grad():\n",
    "    for data in test_loader:\n",
    "        inputs, labels = data\n",
    "        outputs = model(inputs)\n",
    "        _, predicted = torch.max(outputs.data, dim=1)\n",
    "        total += labels.size(0)\n",
    "        correct += (predicted == labels).sum().item()\n",
    "print(f'accuracy is {correct / total * 100} percent')"
   ]
  },
  {
   "cell_type": "code",
   "execution_count": 21,
   "metadata": {},
   "outputs": [],
   "source": [
    "# The accuracy was not bad, but we can do better by creating a network with another layer\n",
    "import torch.nn as nn\n",
    "import torch.optim as optim\n",
    "import torch.nn.functional as F\n",
    "\n",
    "class LRpp(nn.Module):\n",
    "    def __init__(self):\n",
    "        super(LRpp, self).__init__()\n",
    "        self.fc1 = nn.Linear(784, 1000)\n",
    "        self.fc2 = nn.Linear(1000, 10)\n",
    "        self.softmax = nn.Softmax(dim=1)\n",
    "    \n",
    "    def forward(self, x):\n",
    "        x = x.view(-1, 784)\n",
    "        x = F.relu(self.fc1(x))\n",
    "        x = self.softmax(self.fc2(x))\n",
    "        \n",
    "        return x\n",
    "\n",
    "def train(model, criterion, optimizer, train_loader, epochs=2):\n",
    "    for epoch in range(epochs):\n",
    "        for i, data in enumerate(train_loader):\n",
    "            #get inputs, labels\n",
    "            inputs, labels = data\n",
    "        \n",
    "            # zero the parameter gradients\n",
    "            optimizer.zero_grad()\n",
    "        \n",
    "            # forward, backward, optimize\n",
    "            outputs = model(inputs)\n",
    "            loss = criterion(outputs, labels)\n",
    "            loss.backward()\n",
    "            optimizer.step()\n",
    "\n",
    "    print('finished training')\n",
    "        \n",
    "    # save trained model\n",
    "    save_path = './MNIST_LRpp.pth'\n",
    "    torch.save(model.state_dict(), save_path) \n",
    "    \n",
    "    return None\n",
    "    \n",
    "def evaluate(model, test_loader):\n",
    "    # evaluate on testing data\n",
    "    total = 0\n",
    "    correct = 0\n",
    "\n",
    "    with torch.no_grad():\n",
    "        for data in test_loader:\n",
    "            inputs, labels = data\n",
    "            outputs = model(inputs)\n",
    "            _, predicted = torch.max(outputs.data, dim=1)\n",
    "            total += labels.size(0)\n",
    "            correct += (predicted == labels).sum().item()\n",
    "    print(f'accuracy is {correct / total * 100} percent')\n",
    "    \n",
    "    return None"
   ]
  },
  {
   "cell_type": "code",
   "execution_count": 22,
   "metadata": {},
   "outputs": [
    {
     "name": "stdout",
     "output_type": "stream",
     "text": [
      "finished training\n",
      "accuracy is 93.62 percent\n"
     ]
    }
   ],
   "source": [
    "model = LRpp()\n",
    "criterion = nn.NLLLoss()\n",
    "optimizer = optim.SGD(model.parameters(), lr=.01, momentum=.9)\n",
    "\n",
    "train(model, criterion, optimizer, train_loader, epochs=2)\n",
    "\n",
    "evaluate(model, test_loader)"
   ]
  },
  {
   "cell_type": "code",
   "execution_count": 23,
   "metadata": {},
   "outputs": [],
   "source": [
    "# So our accuracy has increased a bit, but we can go even further... using a convolutional neural network.  \n",
    "\n",
    "import torch.nn as nn\n",
    "import torch.optim as optim\n",
    "import torch.nn.functional as F\n",
    "\n",
    "class CNN(nn.Module):\n",
    "    def __init__(self):\n",
    "        super(CNN, self).__init__() \n",
    "        # batch x 1 x 28 x 28\n",
    "        self.layer1 = nn.Sequential(nn.Conv2d(in_channels=1, out_channels=16, kernel_size=5, padding=2), \n",
    "                                    nn.ReLU(),\n",
    "                                    nn.MaxPool2d(kernel_size=2, stride=2)) # batch x 16 x 14 x 14\n",
    "        self.layer2 = nn.Sequential(nn.Conv2d(in_channels=16, out_channels=32, kernel_size=5, padding=2), \n",
    "                                    nn.ReLU(),\n",
    "                                    nn.MaxPool2d(kernel_size=2, stride=2)) #: batch x 32 x 7 x 7 \n",
    "        self.fc1 = nn.Linear(32*7*7, 1000)\n",
    "        self.fc2 = nn.Linear(1000, 10)\n",
    "        self.softmax = nn.Softmax(dim=1)\n",
    "        \n",
    "    def forward(self, x):\n",
    "        x = self.layer1(x)\n",
    "        x = self.layer2(x)\n",
    "        x = x.view(-1, 32*7*7) # flatten for fully connected layers\n",
    "        x = F.relu(self.fc1(x))\n",
    "        x = self.softmax(self.fc2(x))\n",
    "        \n",
    "        return x\n",
    "        \n",
    "def train(model, criterion, optimizer, train_loader, epochs=2):\n",
    "    for epoch in range(epochs):\n",
    "        for i, data in enumerate(train_loader):\n",
    "            #get inputs, labels\n",
    "            inputs, labels = data\n",
    "        \n",
    "            # zero the parameter gradients\n",
    "            optimizer.zero_grad()\n",
    "        \n",
    "            # forward, backward, optimize\n",
    "            outputs = model(inputs)\n",
    "            loss = criterion(outputs, labels)\n",
    "            loss.backward()\n",
    "            optimizer.step()\n",
    "\n",
    "    print('finished training')\n",
    "        \n",
    "    # save trained model\n",
    "    save_path = './MNIST_CNN.pth'\n",
    "    torch.save(model.state_dict(), save_path) \n",
    "    \n",
    "    return None\n",
    "    \n",
    "def evaluate(model, test_loader):\n",
    "    # evaluate on testing data\n",
    "    total = 0\n",
    "    correct = 0\n",
    "\n",
    "    with torch.no_grad():\n",
    "        for data in test_loader:\n",
    "            inputs, labels = data\n",
    "            outputs = model(inputs)\n",
    "            _, predicted = torch.max(outputs.data, dim=1)\n",
    "            total += labels.size(0)\n",
    "            correct += (predicted == labels).sum().item()\n",
    "    print(f'accuracy is {correct / total * 100} percent')\n",
    "    \n",
    "    return None"
   ]
  },
  {
   "cell_type": "code",
   "execution_count": 24,
   "metadata": {},
   "outputs": [
    {
     "name": "stdout",
     "output_type": "stream",
     "text": [
      "finished training\n",
      "accuracy is 98.05 percent\n"
     ]
    }
   ],
   "source": [
    "model = CNN()\n",
    "criterion = nn.NLLLoss()\n",
    "optimizer = optim.SGD(model.parameters(), lr=.01, momentum=.9)\n",
    "\n",
    "train(model, criterion, optimizer, train_loader, epochs=2)\n",
    "\n",
    "evaluate(model, test_loader)"
   ]
  },
  {
   "cell_type": "code",
   "execution_count": null,
   "metadata": {},
   "outputs": [],
   "source": []
  }
 ],
 "metadata": {
  "kernelspec": {
   "display_name": "Python 3",
   "language": "python",
   "name": "python3"
  },
  "language_info": {
   "codemirror_mode": {
    "name": "ipython",
    "version": 3
   },
   "file_extension": ".py",
   "mimetype": "text/x-python",
   "name": "python",
   "nbconvert_exporter": "python",
   "pygments_lexer": "ipython3",
   "version": "3.8.5"
  }
 },
 "nbformat": 4,
 "nbformat_minor": 4
}
